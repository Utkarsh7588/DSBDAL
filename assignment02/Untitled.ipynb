{
 "cells": [
  {
   "cell_type": "code",
   "execution_count": 12,
   "id": "de8b53ab",
   "metadata": {},
   "outputs": [],
   "source": [
    "import pandas as pd\n",
    "import numpy as np"
   ]
  },
  {
   "cell_type": "code",
   "execution_count": 13,
   "id": "56df33b3",
   "metadata": {},
   "outputs": [],
   "source": [
    "# Generate random data\n",
    "np.random.seed(0)\n",
    "n = 100  # Number of students\n",
    "\n",
    "df = pd.DataFrame({\n",
    "    'Age': np.random.randint(18, 25, n),\n",
    "    'Gender': np.random.choice(['Male', 'Female'], n),\n",
    "    'Grade': np.random.randint(50, 100, n),\n",
    "    'Absenteeism': np.random.randint(0, 10, n),\n",
    "    'StudyHours': np.random.randint(1, 10, n)\n",
    "})\n"
   ]
  },
  {
   "cell_type": "code",
   "execution_count": 22,
   "id": "ed6a919b",
   "metadata": {},
   "outputs": [
    {
     "data": {
      "text/plain": [
       "0     False\n",
       "1     False\n",
       "2     False\n",
       "3     False\n",
       "4     False\n",
       "      ...  \n",
       "95    False\n",
       "96    False\n",
       "97    False\n",
       "98    False\n",
       "99    False\n",
       "Name: Grade, Length: 100, dtype: bool"
      ]
     },
     "execution_count": 22,
     "metadata": {},
     "output_type": "execute_result"
    }
   ],
   "source": [
    "missing_values = df.isnull().sum()\n",
    "inconsistencies = (df['Grade'] < 0) | (df['Grade'] > 100)\n"
   ]
  },
  {
   "cell_type": "code",
   "execution_count": 15,
   "id": "864b1d22",
   "metadata": {},
   "outputs": [],
   "source": [
    "# Replace missing values with the mean\n",
    "df['Age'].fillna(df['Age'].mean(), inplace=True)\n",
    "\n",
    "# Replace inconsistencies with the median\n",
    "df.loc[inconsistencies, 'Grade'] = df['Grade'].median()"
   ]
  },
  {
   "cell_type": "code",
   "execution_count": 21,
   "id": "a20f998d",
   "metadata": {},
   "outputs": [],
   "source": [
    "numeric_variables = ['Grade', 'Absenteeism', 'StudyHours']\n",
    "outliers = pd.DataFrame()\n",
    "for var in numeric_variables:\n",
    "    q1 = df[var].quantile(0.25)\n",
    "    q3 = df[var].quantile(0.75)\n",
    "    iqr = q3 - q1\n",
    "    lower_bound = q1 - 1.5 * iqr\n",
    "    upper_bound = q3 + 1.5 * iqr\n",
    "    outliers[var] = (df[var] < lower_bound) | (df[var] > upper_bound)\n",
    "       "
   ]
  },
  {
   "cell_type": "code",
   "execution_count": 25,
   "id": "d08d6372",
   "metadata": {},
   "outputs": [],
   "source": [
    "for var in numeric_variables:\n",
    "    # Remove outliers using winsorization\n",
    "    lower_bound = df[var].quantile(0.05)\n",
    "    upper_bound = df[var].quantile(0.95)\n",
    "    df[var] = np.where(df[var] < lower_bound, lower_bound, df[var])\n",
    "    df[var] = np.where(df[var] > upper_bound, upper_bound, df[var])\n",
    "    # Apply data transformation (log transformation) to 'Grade' variable\n",
    "    if var == 'Grade':\n",
    "        df[var] = np.log1p(df[var])"
   ]
  },
  {
   "cell_type": "code",
   "execution_count": 27,
   "id": "ea49e2a5",
   "metadata": {},
   "outputs": [
    {
     "data": {
      "text/plain": [
       "<Axes: >"
      ]
     },
     "execution_count": 27,
     "metadata": {},
     "output_type": "execute_result"
    },
    {
     "data": {
      "image/png": "[encoded data removed]",
      "text/plain": [
       "<Figure size 640x480 with 1 Axes>"
      ]
     },
     "metadata": {},
     "output_type": "display_data"
    }
   ],
   "source": [
    "import matplotlib.pyplot as plt\n",
    "df.boxplot(column=['Grade'])"
   ]
  },
  {
   "cell_type": "code",
   "execution_count": null,
   "id": "dd881d0f",
   "metadata": {},
   "outputs": [],
   "source": []
  },
  {
   "cell_type": "code",
   "execution_count": null,
   "id": "5342c8c7",
   "metadata": {},
   "outputs": [],
   "source": []
  }
 ],
 "metadata": {
  "kernelspec": {
   "display_name": "Python 3 (ipykernel)",
   "language": "python",
   "name": "python3"
  },
  "language_info": {
   "codemirror_mode": {
    "name": "ipython",
    "version": 3
   },
   "file_extension": ".py",
   "mimetype": "text/x-python",
   "name": "python",
   "nbconvert_exporter": "python",
   "pygments_lexer": "ipython3",
   "version": "3.11.3"
  }
 },
 "nbformat": 4,
 "nbformat_minor": 5
}
