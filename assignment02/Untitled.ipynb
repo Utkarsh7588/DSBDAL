{
 "cells": [
  {
   "cell_type": "code",
   "execution_count": 37,
   "id": "de8b53ab",
   "metadata": {},
   "outputs": [],
   "source": [
    "import pandas as pd\n",
    "import numpy as np"
   ]
  },
  {
   "cell_type": "code",
   "execution_count": 38,
   "id": "56df33b3",
   "metadata": {},
   "outputs": [],
   "source": [
    "# Generate random data\n",
    "np.random.seed(0)\n",
    "n = 100  # Number of students\n",
    "\n",
    "df = pd.DataFrame({\n",
    "    'Age': np.random.randint(18, 25, n),\n",
    "    'Gender': np.random.choice(['Male', 'Female'], n),\n",
    "    'Grade': np.random.randint(50, 100, n),\n",
    "    'Absenteeism': np.random.randint(0, 10, n),\n",
    "    'StudyHours': np.random.randint(1, 10, n)\n",
    "})\n"
   ]
  },
  {
   "cell_type": "code",
   "execution_count": 39,
   "id": "ed6a919b",
   "metadata": {},
   "outputs": [],
   "source": [
    "missing_values = df.isnull().sum()\n",
    "inconsistencies = (df['Grade'] < 0) | (df['Grade'] > 100)\n"
   ]
  },
  {
   "cell_type": "code",
   "execution_count": 40,
   "id": "864b1d22",
   "metadata": {},
   "outputs": [],
   "source": [
    "# Replace missing values with the mean\n",
    "df['Age'].fillna(df['Age'].mean(), inplace=True)\n",
    "\n",
    "# Replace inconsistencies with the median\n",
    "df.loc[inconsistencies, 'Grade'] = df['Grade'].median()"
   ]
  },
  {
   "cell_type": "code",
   "execution_count": 41,
   "id": "a20f998d",
   "metadata": {},
   "outputs": [
    {
     "data": {
      "text/html": [
       "<div>\n",
       "<style scoped>\n",
       "    .dataframe tbody tr th:only-of-type {\n",
       "        vertical-align: middle;\n",
       "    }\n",
       "\n",
       "    .dataframe tbody tr th {\n",
       "        vertical-align: top;\n",
       "    }\n",
       "\n",
       "    .dataframe thead th {\n",
       "        text-align: right;\n",
       "    }\n",
       "</style>\n",
       "<table border=\"1\" class=\"dataframe\">\n",
       "  <thead>\n",
       "    <tr style=\"text-align: right;\">\n",
       "      <th></th>\n",
       "      <th>Grade</th>\n",
       "      <th>Absenteeism</th>\n",
       "      <th>StudyHours</th>\n",
       "    </tr>\n",
       "  </thead>\n",
       "  <tbody>\n",
       "    <tr>\n",
       "      <th>0</th>\n",
       "      <td>False</td>\n",
       "      <td>False</td>\n",
       "      <td>False</td>\n",
       "    </tr>\n",
       "    <tr>\n",
       "      <th>1</th>\n",
       "      <td>False</td>\n",
       "      <td>False</td>\n",
       "      <td>False</td>\n",
       "    </tr>\n",
       "    <tr>\n",
       "      <th>2</th>\n",
       "      <td>False</td>\n",
       "      <td>False</td>\n",
       "      <td>False</td>\n",
       "    </tr>\n",
       "    <tr>\n",
       "      <th>3</th>\n",
       "      <td>False</td>\n",
       "      <td>False</td>\n",
       "      <td>False</td>\n",
       "    </tr>\n",
       "    <tr>\n",
       "      <th>4</th>\n",
       "      <td>False</td>\n",
       "      <td>False</td>\n",
       "      <td>False</td>\n",
       "    </tr>\n",
       "    <tr>\n",
       "      <th>...</th>\n",
       "      <td>...</td>\n",
       "      <td>...</td>\n",
       "      <td>...</td>\n",
       "    </tr>\n",
       "    <tr>\n",
       "      <th>95</th>\n",
       "      <td>False</td>\n",
       "      <td>False</td>\n",
       "      <td>False</td>\n",
       "    </tr>\n",
       "    <tr>\n",
       "      <th>96</th>\n",
       "      <td>False</td>\n",
       "      <td>False</td>\n",
       "      <td>False</td>\n",
       "    </tr>\n",
       "    <tr>\n",
       "      <th>97</th>\n",
       "      <td>False</td>\n",
       "      <td>False</td>\n",
       "      <td>False</td>\n",
       "    </tr>\n",
       "    <tr>\n",
       "      <th>98</th>\n",
       "      <td>False</td>\n",
       "      <td>False</td>\n",
       "      <td>False</td>\n",
       "    </tr>\n",
       "    <tr>\n",
       "      <th>99</th>\n",
       "      <td>False</td>\n",
       "      <td>False</td>\n",
       "      <td>False</td>\n",
       "    </tr>\n",
       "  </tbody>\n",
       "</table>\n",
       "<p>100 rows × 3 columns</p>\n",
       "</div>"
      ],
      "text/plain": [
       "    Grade  Absenteeism  StudyHours\n",
       "0   False        False       False\n",
       "1   False        False       False\n",
       "2   False        False       False\n",
       "3   False        False       False\n",
       "4   False        False       False\n",
       "..    ...          ...         ...\n",
       "95  False        False       False\n",
       "96  False        False       False\n",
       "97  False        False       False\n",
       "98  False        False       False\n",
       "99  False        False       False\n",
       "\n",
       "[100 rows x 3 columns]"
      ]
     },
     "execution_count": 41,
     "metadata": {},
     "output_type": "execute_result"
    }
   ],
   "source": [
    "numeric_variables = ['Grade', 'Absenteeism', 'StudyHours']\n",
    "outliers = pd.DataFrame()\n",
    "for var in numeric_variables:\n",
    "    q1 = df[var].quantile(0.25)\n",
    "    q3 = df[var].quantile(0.75)\n",
    "    iqr = q3 - q1\n",
    "    lower_bound = q1 - 1.5 * iqr\n",
    "    upper_bound = q3 + 1.5 * iqr\n",
    "    outliers[var] = (df[var] < lower_bound) | (df[var] > upper_bound)\n",
    "outliers"
   ]
  },
  {
   "cell_type": "code",
   "execution_count": 42,
   "id": "d08d6372",
   "metadata": {},
   "outputs": [
    {
     "name": "stdout",
     "output_type": "stream",
     "text": [
      "-0.09167251356086972\n",
      "-0.3424612305054338\n"
     ]
    }
   ],
   "source": [
    "import matplotlib.pyplot as plt\n",
    "print(df['Grade'].skew())\n",
    "\n",
    "for var in numeric_variables:\n",
    "    # Remove outliers using winsorization\n",
    "    lower_bound = df[var].quantile(0.05)\n",
    "    upper_bound = df[var].quantile(0.95)\n",
    "    df[var] = np.where(df[var] < lower_bound, lower_bound, df[var])\n",
    "    df[var] = np.where(df[var] > upper_bound, upper_bound, df[var])\n",
    "    # Apply data transformation (log transformation) to 'Grade' variable\n",
    "    if var == 'Grade':\n",
    "        df[var] = np.log10(df[var])\n",
    "        df[var]=np.sqrt(df[var])\n",
    "print(df['Grade'].skew())\n"
   ]
  },
  {
   "cell_type": "code",
   "execution_count": 35,
   "id": "ea49e2a5",
   "metadata": {},
   "outputs": [
    {
     "data": {
      "text/plain": [
       "<Axes: >"
      ]
     },
     "execution_count": 35,
     "metadata": {},
     "output_type": "execute_result"
    }
   ],
   "source": [
    "import matplotlib.pyplot as plt\n",
    "df.boxplot(column=['Grade'])"
   ]
  },
  {
   "cell_type": "code",
   "execution_count": null,
   "id": "dd881d0f",
   "metadata": {},
   "outputs": [],
   "source": []
  },
  {
   "cell_type": "code",
   "execution_count": null,
   "id": "5342c8c7",
   "metadata": {},
   "outputs": [],
   "source": []
  }
 ],
 "metadata": {
  "kernelspec": {
   "display_name": "Python 3 (ipykernel)",
   "language": "python",
   "name": "python3"
  },
  "language_info": {
   "codemirror_mode": {
    "name": "ipython",
    "version": 3
   },
   "file_extension": ".py",
   "mimetype": "text/x-python",
   "name": "python",
   "nbconvert_exporter": "python",
   "pygments_lexer": "ipython3",
   "version": "3.11.3"
  }
 },
 "nbformat": 4,
 "nbformat_minor": 5
}
